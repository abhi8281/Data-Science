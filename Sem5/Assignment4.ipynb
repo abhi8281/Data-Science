{
 "cells": [
  {
   "cell_type": "markdown",
   "metadata": {},
   "source": [
    "## Normal Distribution"
   ]
  },
  {
   "cell_type": "markdown",
   "metadata": {},
   "source": [
    "#### Implement normal distribution in python and visualize it for Mean =100, Standard_deviation = 4, dataset_size = 100000.\n"
   ]
  },
  {
   "cell_type": "code",
   "execution_count": 8,
   "metadata": {},
   "outputs": [],
   "source": [
    "import numpy as np\n",
    "import matplotlib.pyplot as plt"
   ]
  },
  {
   "cell_type": "code",
   "execution_count": 2,
   "metadata": {},
   "outputs": [],
   "source": [
    "mean = 100"
   ]
  },
  {
   "cell_type": "code",
   "execution_count": 3,
   "metadata": {},
   "outputs": [],
   "source": [
    "Standard_deviation = 25"
   ]
  },
  {
   "cell_type": "code",
   "execution_count": 4,
   "metadata": {},
   "outputs": [],
   "source": [
    "size = 100000"
   ]
  },
  {
   "cell_type": "code",
   "execution_count": 6,
   "metadata": {},
   "outputs": [
    {
     "name": "stdout",
     "output_type": "stream",
     "text": [
      "[ 65.30901884  59.38764433  80.46494621 ... 104.7583457   97.20682087\n",
      " 102.71407579]\n",
      "100000\n",
      "[ -8.33852802  -3.93333516  -1.71107187 ... 200.84407368 204.88527795\n",
      " 208.94286939]\n"
     ]
    }
   ],
   "source": [
    "# Creating a normal distribution data\n",
    "values = np.random.normal(mean,Standard_deviation,size)\n",
    "print(values)\n",
    "print(len(values))\n",
    "print(np.sort(values))"
   ]
  },
  {
   "cell_type": "code",
   "execution_count": 50,
   "metadata": {},
   "outputs": [
    {
     "data": {
      "image/png": "[encoded data removed]",
      "text/plain": [
       "<Figure size 640x480 with 1 Axes>"
      ]
     },
     "metadata": {},
     "output_type": "display_data"
    }
   ],
   "source": [
    "#Plotting Histograph\n",
    "plt.hist(values,100,color='lightblue')\n",
    "#Plotting MeanLine\n",
    "plt.axvline(values.mean(),color='k',linestyle='dashed',linewidth=2)\n",
    "plt.show()"
   ]
  },
  {
   "cell_type": "code",
   "execution_count": 51,
   "metadata": {},
   "outputs": [],
   "source": [
    "import pandas as pd"
   ]
  },
  {
   "cell_type": "code",
   "execution_count": 52,
   "metadata": {},
   "outputs": [],
   "source": [
    "df = pd.read_csv('../data/Latest_Data_Science_Salaries.csv')"
   ]
  },
  {
   "cell_type": "code",
   "execution_count": 53,
   "metadata": {},
   "outputs": [
    {
     "data": {
      "text/html": [
       "<div>\n",
       "<style scoped>\n",
       "    .dataframe tbody tr th:only-of-type {\n",
       "        vertical-align: middle;\n",
       "    }\n",
       "\n",
       "    .dataframe tbody tr th {\n",
       "        vertical-align: top;\n",
       "    }\n",
       "\n",
       "    .dataframe thead th {\n",
       "        text-align: right;\n",
       "    }\n",
       "</style>\n",
       "<table border=\"1\" class=\"dataframe\">\n",
       "  <thead>\n",
       "    <tr style=\"text-align: right;\">\n",
       "      <th></th>\n",
       "      <th>Job Title</th>\n",
       "      <th>Employment Type</th>\n",
       "      <th>Experience Level</th>\n",
       "      <th>Expertise Level</th>\n",
       "      <th>Salary</th>\n",
       "      <th>Salary Currency</th>\n",
       "      <th>Company Location</th>\n",
       "      <th>Salary in USD</th>\n",
       "      <th>Employee Residence</th>\n",
       "      <th>Company Size</th>\n",
       "      <th>Year</th>\n",
       "    </tr>\n",
       "  </thead>\n",
       "  <tbody>\n",
       "    <tr>\n",
       "      <th>0</th>\n",
       "      <td>Data Engineer</td>\n",
       "      <td>Full-Time</td>\n",
       "      <td>Senior</td>\n",
       "      <td>Expert</td>\n",
       "      <td>210000</td>\n",
       "      <td>United States Dollar</td>\n",
       "      <td>United States</td>\n",
       "      <td>210000</td>\n",
       "      <td>United States</td>\n",
       "      <td>Medium</td>\n",
       "      <td>2023</td>\n",
       "    </tr>\n",
       "    <tr>\n",
       "      <th>1</th>\n",
       "      <td>Data Engineer</td>\n",
       "      <td>Full-Time</td>\n",
       "      <td>Senior</td>\n",
       "      <td>Expert</td>\n",
       "      <td>165000</td>\n",
       "      <td>United States Dollar</td>\n",
       "      <td>United States</td>\n",
       "      <td>165000</td>\n",
       "      <td>United States</td>\n",
       "      <td>Medium</td>\n",
       "      <td>2023</td>\n",
       "    </tr>\n",
       "    <tr>\n",
       "      <th>2</th>\n",
       "      <td>Data Engineer</td>\n",
       "      <td>Full-Time</td>\n",
       "      <td>Senior</td>\n",
       "      <td>Expert</td>\n",
       "      <td>185900</td>\n",
       "      <td>United States Dollar</td>\n",
       "      <td>United States</td>\n",
       "      <td>185900</td>\n",
       "      <td>United States</td>\n",
       "      <td>Medium</td>\n",
       "      <td>2023</td>\n",
       "    </tr>\n",
       "    <tr>\n",
       "      <th>3</th>\n",
       "      <td>Data Engineer</td>\n",
       "      <td>Full-Time</td>\n",
       "      <td>Senior</td>\n",
       "      <td>Expert</td>\n",
       "      <td>129300</td>\n",
       "      <td>United States Dollar</td>\n",
       "      <td>United States</td>\n",
       "      <td>129300</td>\n",
       "      <td>United States</td>\n",
       "      <td>Medium</td>\n",
       "      <td>2023</td>\n",
       "    </tr>\n",
       "    <tr>\n",
       "      <th>4</th>\n",
       "      <td>Data Scientist</td>\n",
       "      <td>Full-Time</td>\n",
       "      <td>Senior</td>\n",
       "      <td>Expert</td>\n",
       "      <td>140000</td>\n",
       "      <td>United States Dollar</td>\n",
       "      <td>United States</td>\n",
       "      <td>140000</td>\n",
       "      <td>United States</td>\n",
       "      <td>Medium</td>\n",
       "      <td>2023</td>\n",
       "    </tr>\n",
       "  </tbody>\n",
       "</table>\n",
       "</div>"
      ],
      "text/plain": [
       "        Job Title Employment Type Experience Level Expertise Level  Salary  \\\n",
       "0   Data Engineer       Full-Time           Senior          Expert  210000   \n",
       "1   Data Engineer       Full-Time           Senior          Expert  165000   \n",
       "2   Data Engineer       Full-Time           Senior          Expert  185900   \n",
       "3   Data Engineer       Full-Time           Senior          Expert  129300   \n",
       "4  Data Scientist       Full-Time           Senior          Expert  140000   \n",
       "\n",
       "        Salary Currency Company Location  Salary in USD Employee Residence  \\\n",
       "0  United States Dollar    United States         210000      United States   \n",
       "1  United States Dollar    United States         165000      United States   \n",
       "2  United States Dollar    United States         185900      United States   \n",
       "3  United States Dollar    United States         129300      United States   \n",
       "4  United States Dollar    United States         140000      United States   \n",
       "\n",
       "  Company Size  Year  \n",
       "0       Medium  2023  \n",
       "1       Medium  2023  \n",
       "2       Medium  2023  \n",
       "3       Medium  2023  \n",
       "4       Medium  2023  "
      ]
     },
     "execution_count": 53,
     "metadata": {},
     "output_type": "execute_result"
    }
   ],
   "source": [
    "df.head()"
   ]
  },
  {
   "cell_type": "code",
   "execution_count": 54,
   "metadata": {},
   "outputs": [],
   "source": [
    "salary_mean = df['Salary'].mean()\n",
    "salary_Standard_deviation = df['Salary'].std()\n",
    "salary_size = df['Salary'].__len__()"
   ]
  },
  {
   "cell_type": "code",
   "execution_count": 55,
   "metadata": {},
   "outputs": [
    {
     "name": "stdout",
     "output_type": "stream",
     "text": [
      "[ 434556.07649643 -559778.64678975 1255434.72406539 ...  201258.16559074\n",
      " 1103290.07408703 -168593.59447142]\n",
      "3300\n",
      "[-2638556.53508241 -2391977.1382051  -2292154.27013244 ...\n",
      "  2353415.44890561  2453950.2473736   2467857.33208259]\n"
     ]
    }
   ],
   "source": [
    "values = np.random.normal(salary_mean,salary_Standard_deviation,salary_size)\n",
    "print(values)\n",
    "print(len(values))\n",
    "print(np.sort(values))"
   ]
  },
  {
   "cell_type": "code",
   "execution_count": 59,
   "metadata": {},
   "outputs": [
    {
     "data": {
      "image/png": "[encoded data removed]",
      "text/plain": [
       "<Figure size 640x480 with 1 Axes>"
      ]
     },
     "metadata": {},
     "output_type": "display_data"
    }
   ],
   "source": [
    "#Plotting Histograph\n",
    "plt.hist(values,100,color='violet')\n",
    "#Plotting MeanLine\n",
    "plt.axvline(values.mean(),color='k',linestyle='dashed',linewidth=2)\n",
    "plt.show()"
   ]
  },
  {
   "cell_type": "code",
   "execution_count": null,
   "metadata": {},
   "outputs": [],
   "source": []
  }
 ],
 "metadata": {
  "kernelspec": {
   "display_name": "Python 3",
   "language": "python",
   "name": "python3"
  },
  "language_info": {
   "codemirror_mode": {
    "name": "ipython",
    "version": 3
   },
   "file_extension": ".py",
   "mimetype": "text/x-python",
   "name": "python",
   "nbconvert_exporter": "python",
   "pygments_lexer": "ipython3",
   "version": "3.10.8"
  },
  "orig_nbformat": 4
 },
 "nbformat": 4,
 "nbformat_minor": 2
}
