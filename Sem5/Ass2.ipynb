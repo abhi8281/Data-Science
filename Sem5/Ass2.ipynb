{
 "cells": [
  {
   "cell_type": "markdown",
   "metadata": {},
   "source": [
    "# Assignment No.2"
   ]
  },
  {
   "cell_type": "markdown",
   "metadata": {},
   "source": [
    "### DESCRIPTIVE STATISTICS: Write a python script to find basic descriptive statistics using summary, quartile function, etc on iris datasets.\n"
   ]
  },
  {
   "cell_type": "code",
   "execution_count": 2,
   "metadata": {},
   "outputs": [
    {
     "name": "stdout",
     "output_type": "stream",
     "text": [
      "Requirement already satisfied: pandas in /opt/python/3.10.8/lib/python3.10/site-packages (1.5.3)\n",
      "Requirement already satisfied: python-dateutil>=2.8.1 in /home/codespace/.local/lib/python3.10/site-packages (from pandas) (2.8.2)\n",
      "Requirement already satisfied: pytz>=2020.1 in /home/codespace/.local/lib/python3.10/site-packages (from pandas) (2023.3)\n",
      "Requirement already satisfied: numpy>=1.21.0 in /opt/python/3.10.8/lib/python3.10/site-packages (from pandas) (1.24.2)\n",
      "Requirement already satisfied: six>=1.5 in /home/codespace/.local/lib/python3.10/site-packages (from python-dateutil>=2.8.1->pandas) (1.16.0)\n",
      "\n",
      "\u001b[1m[\u001b[0m\u001b[34;49mnotice\u001b[0m\u001b[1;39;49m]\u001b[0m\u001b[39;49m A new release of pip is available: \u001b[0m\u001b[31;49m23.2.1\u001b[0m\u001b[39;49m -> \u001b[0m\u001b[32;49m23.3\u001b[0m\n",
      "\u001b[1m[\u001b[0m\u001b[34;49mnotice\u001b[0m\u001b[1;39;49m]\u001b[0m\u001b[39;49m To update, run: \u001b[0m\u001b[32;49mpip install --upgrade pip\u001b[0m\n",
      "Note: you may need to restart the kernel to use updated packages.\n",
      "Requirement already satisfied: numpy in /opt/python/3.10.8/lib/python3.10/site-packages (1.24.2)\n",
      "\n",
      "\u001b[1m[\u001b[0m\u001b[34;49mnotice\u001b[0m\u001b[1;39;49m]\u001b[0m\u001b[39;49m A new release of pip is available: \u001b[0m\u001b[31;49m23.2.1\u001b[0m\u001b[39;49m -> \u001b[0m\u001b[32;49m23.3\u001b[0m\n",
      "\u001b[1m[\u001b[0m\u001b[34;49mnotice\u001b[0m\u001b[1;39;49m]\u001b[0m\u001b[39;49m To update, run: \u001b[0m\u001b[32;49mpip install --upgrade pip\u001b[0m\n",
      "Note: you may need to restart the kernel to use updated packages.\n"
     ]
    }
   ],
   "source": [
    "%pip install pandas\n",
    "%pip install numpy\n"
   ]
  },
  {
   "cell_type": "code",
   "execution_count": 3,
   "metadata": {},
   "outputs": [],
   "source": [
    "import pandas as pd\n",
    "import numpy as np"
   ]
  },
  {
   "cell_type": "markdown",
   "metadata": {},
   "source": [
    "## Latest_Data Scientist_Salaries"
   ]
  },
  {
   "cell_type": "code",
   "execution_count": 4,
   "metadata": {},
   "outputs": [
    {
     "data": {
      "text/html": [
       "<div>\n",
       "<style scoped>\n",
       "    .dataframe tbody tr th:only-of-type {\n",
       "        vertical-align: middle;\n",
       "    }\n",
       "\n",
       "    .dataframe tbody tr th {\n",
       "        vertical-align: top;\n",
       "    }\n",
       "\n",
       "    .dataframe thead th {\n",
       "        text-align: right;\n",
       "    }\n",
       "</style>\n",
       "<table border=\"1\" class=\"dataframe\">\n",
       "  <thead>\n",
       "    <tr style=\"text-align: right;\">\n",
       "      <th></th>\n",
       "      <th>Job Title</th>\n",
       "      <th>Employment Type</th>\n",
       "      <th>Experience Level</th>\n",
       "      <th>Expertise Level</th>\n",
       "      <th>Salary</th>\n",
       "      <th>Salary Currency</th>\n",
       "      <th>Company Location</th>\n",
       "      <th>Salary in USD</th>\n",
       "      <th>Employee Residence</th>\n",
       "      <th>Company Size</th>\n",
       "      <th>Year</th>\n",
       "    </tr>\n",
       "  </thead>\n",
       "  <tbody>\n",
       "    <tr>\n",
       "      <th>0</th>\n",
       "      <td>Data Engineer</td>\n",
       "      <td>Full-Time</td>\n",
       "      <td>Senior</td>\n",
       "      <td>Expert</td>\n",
       "      <td>210000</td>\n",
       "      <td>United States Dollar</td>\n",
       "      <td>United States</td>\n",
       "      <td>210000</td>\n",
       "      <td>United States</td>\n",
       "      <td>Medium</td>\n",
       "      <td>2023</td>\n",
       "    </tr>\n",
       "    <tr>\n",
       "      <th>1</th>\n",
       "      <td>Data Engineer</td>\n",
       "      <td>Full-Time</td>\n",
       "      <td>Senior</td>\n",
       "      <td>Expert</td>\n",
       "      <td>165000</td>\n",
       "      <td>United States Dollar</td>\n",
       "      <td>United States</td>\n",
       "      <td>165000</td>\n",
       "      <td>United States</td>\n",
       "      <td>Medium</td>\n",
       "      <td>2023</td>\n",
       "    </tr>\n",
       "    <tr>\n",
       "      <th>2</th>\n",
       "      <td>Data Engineer</td>\n",
       "      <td>Full-Time</td>\n",
       "      <td>Senior</td>\n",
       "      <td>Expert</td>\n",
       "      <td>185900</td>\n",
       "      <td>United States Dollar</td>\n",
       "      <td>United States</td>\n",
       "      <td>185900</td>\n",
       "      <td>United States</td>\n",
       "      <td>Medium</td>\n",
       "      <td>2023</td>\n",
       "    </tr>\n",
       "    <tr>\n",
       "      <th>3</th>\n",
       "      <td>Data Engineer</td>\n",
       "      <td>Full-Time</td>\n",
       "      <td>Senior</td>\n",
       "      <td>Expert</td>\n",
       "      <td>129300</td>\n",
       "      <td>United States Dollar</td>\n",
       "      <td>United States</td>\n",
       "      <td>129300</td>\n",
       "      <td>United States</td>\n",
       "      <td>Medium</td>\n",
       "      <td>2023</td>\n",
       "    </tr>\n",
       "    <tr>\n",
       "      <th>4</th>\n",
       "      <td>Data Scientist</td>\n",
       "      <td>Full-Time</td>\n",
       "      <td>Senior</td>\n",
       "      <td>Expert</td>\n",
       "      <td>140000</td>\n",
       "      <td>United States Dollar</td>\n",
       "      <td>United States</td>\n",
       "      <td>140000</td>\n",
       "      <td>United States</td>\n",
       "      <td>Medium</td>\n",
       "      <td>2023</td>\n",
       "    </tr>\n",
       "    <tr>\n",
       "      <th>...</th>\n",
       "      <td>...</td>\n",
       "      <td>...</td>\n",
       "      <td>...</td>\n",
       "      <td>...</td>\n",
       "      <td>...</td>\n",
       "      <td>...</td>\n",
       "      <td>...</td>\n",
       "      <td>...</td>\n",
       "      <td>...</td>\n",
       "      <td>...</td>\n",
       "      <td>...</td>\n",
       "    </tr>\n",
       "    <tr>\n",
       "      <th>3295</th>\n",
       "      <td>Data Scientist</td>\n",
       "      <td>Full-Time</td>\n",
       "      <td>Senior</td>\n",
       "      <td>Expert</td>\n",
       "      <td>412000</td>\n",
       "      <td>United States Dollar</td>\n",
       "      <td>United States</td>\n",
       "      <td>412000</td>\n",
       "      <td>United States</td>\n",
       "      <td>Large</td>\n",
       "      <td>2020</td>\n",
       "    </tr>\n",
       "    <tr>\n",
       "      <th>3296</th>\n",
       "      <td>Principal Data Scientist</td>\n",
       "      <td>Full-Time</td>\n",
       "      <td>Mid</td>\n",
       "      <td>Intermediate</td>\n",
       "      <td>151000</td>\n",
       "      <td>United States Dollar</td>\n",
       "      <td>United States</td>\n",
       "      <td>151000</td>\n",
       "      <td>United States</td>\n",
       "      <td>Large</td>\n",
       "      <td>2021</td>\n",
       "    </tr>\n",
       "    <tr>\n",
       "      <th>3297</th>\n",
       "      <td>Data Scientist</td>\n",
       "      <td>Full-Time</td>\n",
       "      <td>Entry</td>\n",
       "      <td>Junior</td>\n",
       "      <td>105000</td>\n",
       "      <td>United States Dollar</td>\n",
       "      <td>United States</td>\n",
       "      <td>105000</td>\n",
       "      <td>United States</td>\n",
       "      <td>Small</td>\n",
       "      <td>2020</td>\n",
       "    </tr>\n",
       "    <tr>\n",
       "      <th>3298</th>\n",
       "      <td>Business Data Analyst</td>\n",
       "      <td>Contract</td>\n",
       "      <td>Entry</td>\n",
       "      <td>Junior</td>\n",
       "      <td>100000</td>\n",
       "      <td>United States Dollar</td>\n",
       "      <td>United States</td>\n",
       "      <td>100000</td>\n",
       "      <td>United States</td>\n",
       "      <td>Large</td>\n",
       "      <td>2020</td>\n",
       "    </tr>\n",
       "    <tr>\n",
       "      <th>3299</th>\n",
       "      <td>Data Science Manager</td>\n",
       "      <td>Full-Time</td>\n",
       "      <td>Senior</td>\n",
       "      <td>Expert</td>\n",
       "      <td>7000000</td>\n",
       "      <td>Indian Rupee</td>\n",
       "      <td>India</td>\n",
       "      <td>94665</td>\n",
       "      <td>India</td>\n",
       "      <td>Large</td>\n",
       "      <td>2021</td>\n",
       "    </tr>\n",
       "  </tbody>\n",
       "</table>\n",
       "<p>3300 rows × 11 columns</p>\n",
       "</div>"
      ],
      "text/plain": [
       "                     Job Title Employment Type Experience Level  \\\n",
       "0                Data Engineer       Full-Time           Senior   \n",
       "1                Data Engineer       Full-Time           Senior   \n",
       "2                Data Engineer       Full-Time           Senior   \n",
       "3                Data Engineer       Full-Time           Senior   \n",
       "4               Data Scientist       Full-Time           Senior   \n",
       "...                        ...             ...              ...   \n",
       "3295            Data Scientist       Full-Time           Senior   \n",
       "3296  Principal Data Scientist       Full-Time              Mid   \n",
       "3297            Data Scientist       Full-Time            Entry   \n",
       "3298     Business Data Analyst        Contract            Entry   \n",
       "3299      Data Science Manager       Full-Time           Senior   \n",
       "\n",
       "     Expertise Level   Salary       Salary Currency Company Location  \\\n",
       "0             Expert   210000  United States Dollar    United States   \n",
       "1             Expert   165000  United States Dollar    United States   \n",
       "2             Expert   185900  United States Dollar    United States   \n",
       "3             Expert   129300  United States Dollar    United States   \n",
       "4             Expert   140000  United States Dollar    United States   \n",
       "...              ...      ...                   ...              ...   \n",
       "3295          Expert   412000  United States Dollar    United States   \n",
       "3296    Intermediate   151000  United States Dollar    United States   \n",
       "3297          Junior   105000  United States Dollar    United States   \n",
       "3298          Junior   100000  United States Dollar    United States   \n",
       "3299          Expert  7000000          Indian Rupee            India   \n",
       "\n",
       "      Salary in USD Employee Residence Company Size  Year  \n",
       "0            210000      United States       Medium  2023  \n",
       "1            165000      United States       Medium  2023  \n",
       "2            185900      United States       Medium  2023  \n",
       "3            129300      United States       Medium  2023  \n",
       "4            140000      United States       Medium  2023  \n",
       "...             ...                ...          ...   ...  \n",
       "3295         412000      United States        Large  2020  \n",
       "3296         151000      United States        Large  2021  \n",
       "3297         105000      United States        Small  2020  \n",
       "3298         100000      United States        Large  2020  \n",
       "3299          94665              India        Large  2021  \n",
       "\n",
       "[3300 rows x 11 columns]"
      ]
     },
     "execution_count": 4,
     "metadata": {},
     "output_type": "execute_result"
    }
   ],
   "source": [
    "temp = pd.read_csv('../data/Latest_Data_Science_Salaries.csv')\n",
    "temp"
   ]
  },
  {
   "cell_type": "code",
   "execution_count": 5,
   "metadata": {},
   "outputs": [
    {
     "data": {
      "text/plain": [
       "Job Title             0\n",
       "Employment Type       0\n",
       "Experience Level      0\n",
       "Expertise Level       0\n",
       "Salary                0\n",
       "Salary Currency       0\n",
       "Company Location      0\n",
       "Salary in USD         0\n",
       "Employee Residence    0\n",
       "Company Size          0\n",
       "Year                  0\n",
       "dtype: int64"
      ]
     },
     "execution_count": 5,
     "metadata": {},
     "output_type": "execute_result"
    }
   ],
   "source": [
    "temp.isnull().sum()"
   ]
  },
  {
   "cell_type": "code",
   "execution_count": 6,
   "metadata": {},
   "outputs": [
    {
     "data": {
      "text/html": [
       "<div>\n",
       "<style scoped>\n",
       "    .dataframe tbody tr th:only-of-type {\n",
       "        vertical-align: middle;\n",
       "    }\n",
       "\n",
       "    .dataframe tbody tr th {\n",
       "        vertical-align: top;\n",
       "    }\n",
       "\n",
       "    .dataframe thead th {\n",
       "        text-align: right;\n",
       "    }\n",
       "</style>\n",
       "<table border=\"1\" class=\"dataframe\">\n",
       "  <thead>\n",
       "    <tr style=\"text-align: right;\">\n",
       "      <th></th>\n",
       "      <th>Job Title</th>\n",
       "      <th>Employment Type</th>\n",
       "      <th>Experience Level</th>\n",
       "      <th>Expertise Level</th>\n",
       "      <th>Salary</th>\n",
       "      <th>Salary Currency</th>\n",
       "      <th>Company Location</th>\n",
       "      <th>Salary in USD</th>\n",
       "      <th>Employee Residence</th>\n",
       "      <th>Company Size</th>\n",
       "      <th>Year</th>\n",
       "    </tr>\n",
       "  </thead>\n",
       "  <tbody>\n",
       "    <tr>\n",
       "      <th>0</th>\n",
       "      <td>Data Engineer</td>\n",
       "      <td>Full-Time</td>\n",
       "      <td>Senior</td>\n",
       "      <td>Expert</td>\n",
       "      <td>210000</td>\n",
       "      <td>United States Dollar</td>\n",
       "      <td>United States</td>\n",
       "      <td>210000</td>\n",
       "      <td>United States</td>\n",
       "      <td>Medium</td>\n",
       "      <td>2023</td>\n",
       "    </tr>\n",
       "    <tr>\n",
       "      <th>1</th>\n",
       "      <td>Data Engineer</td>\n",
       "      <td>Full-Time</td>\n",
       "      <td>Senior</td>\n",
       "      <td>Expert</td>\n",
       "      <td>165000</td>\n",
       "      <td>United States Dollar</td>\n",
       "      <td>United States</td>\n",
       "      <td>165000</td>\n",
       "      <td>United States</td>\n",
       "      <td>Medium</td>\n",
       "      <td>2023</td>\n",
       "    </tr>\n",
       "    <tr>\n",
       "      <th>2</th>\n",
       "      <td>Data Engineer</td>\n",
       "      <td>Full-Time</td>\n",
       "      <td>Senior</td>\n",
       "      <td>Expert</td>\n",
       "      <td>185900</td>\n",
       "      <td>United States Dollar</td>\n",
       "      <td>United States</td>\n",
       "      <td>185900</td>\n",
       "      <td>United States</td>\n",
       "      <td>Medium</td>\n",
       "      <td>2023</td>\n",
       "    </tr>\n",
       "    <tr>\n",
       "      <th>3</th>\n",
       "      <td>Data Engineer</td>\n",
       "      <td>Full-Time</td>\n",
       "      <td>Senior</td>\n",
       "      <td>Expert</td>\n",
       "      <td>129300</td>\n",
       "      <td>United States Dollar</td>\n",
       "      <td>United States</td>\n",
       "      <td>129300</td>\n",
       "      <td>United States</td>\n",
       "      <td>Medium</td>\n",
       "      <td>2023</td>\n",
       "    </tr>\n",
       "    <tr>\n",
       "      <th>4</th>\n",
       "      <td>Data Scientist</td>\n",
       "      <td>Full-Time</td>\n",
       "      <td>Senior</td>\n",
       "      <td>Expert</td>\n",
       "      <td>140000</td>\n",
       "      <td>United States Dollar</td>\n",
       "      <td>United States</td>\n",
       "      <td>140000</td>\n",
       "      <td>United States</td>\n",
       "      <td>Medium</td>\n",
       "      <td>2023</td>\n",
       "    </tr>\n",
       "  </tbody>\n",
       "</table>\n",
       "</div>"
      ],
      "text/plain": [
       "        Job Title Employment Type Experience Level Expertise Level  Salary  \\\n",
       "0   Data Engineer       Full-Time           Senior          Expert  210000   \n",
       "1   Data Engineer       Full-Time           Senior          Expert  165000   \n",
       "2   Data Engineer       Full-Time           Senior          Expert  185900   \n",
       "3   Data Engineer       Full-Time           Senior          Expert  129300   \n",
       "4  Data Scientist       Full-Time           Senior          Expert  140000   \n",
       "\n",
       "        Salary Currency Company Location  Salary in USD Employee Residence  \\\n",
       "0  United States Dollar    United States         210000      United States   \n",
       "1  United States Dollar    United States         165000      United States   \n",
       "2  United States Dollar    United States         185900      United States   \n",
       "3  United States Dollar    United States         129300      United States   \n",
       "4  United States Dollar    United States         140000      United States   \n",
       "\n",
       "  Company Size  Year  \n",
       "0       Medium  2023  \n",
       "1       Medium  2023  \n",
       "2       Medium  2023  \n",
       "3       Medium  2023  \n",
       "4       Medium  2023  "
      ]
     },
     "execution_count": 6,
     "metadata": {},
     "output_type": "execute_result"
    }
   ],
   "source": [
    "temp.head()"
   ]
  },
  {
   "cell_type": "code",
   "execution_count": 7,
   "metadata": {},
   "outputs": [
    {
     "data": {
      "text/html": [
       "<div>\n",
       "<style scoped>\n",
       "    .dataframe tbody tr th:only-of-type {\n",
       "        vertical-align: middle;\n",
       "    }\n",
       "\n",
       "    .dataframe tbody tr th {\n",
       "        vertical-align: top;\n",
       "    }\n",
       "\n",
       "    .dataframe thead th {\n",
       "        text-align: right;\n",
       "    }\n",
       "</style>\n",
       "<table border=\"1\" class=\"dataframe\">\n",
       "  <thead>\n",
       "    <tr style=\"text-align: right;\">\n",
       "      <th></th>\n",
       "      <th>Salary</th>\n",
       "      <th>Salary in USD</th>\n",
       "      <th>Year</th>\n",
       "    </tr>\n",
       "  </thead>\n",
       "  <tbody>\n",
       "    <tr>\n",
       "      <th>count</th>\n",
       "      <td>3.300000e+03</td>\n",
       "      <td>3300.000000</td>\n",
       "      <td>3300.000000</td>\n",
       "    </tr>\n",
       "    <tr>\n",
       "      <th>mean</th>\n",
       "      <td>2.046623e+05</td>\n",
       "      <td>142095.983939</td>\n",
       "      <td>2022.495455</td>\n",
       "    </tr>\n",
       "    <tr>\n",
       "      <th>std</th>\n",
       "      <td>7.279383e+05</td>\n",
       "      <td>69028.235512</td>\n",
       "      <td>0.716355</td>\n",
       "    </tr>\n",
       "    <tr>\n",
       "      <th>min</th>\n",
       "      <td>1.400000e+04</td>\n",
       "      <td>15000.000000</td>\n",
       "      <td>2020.000000</td>\n",
       "    </tr>\n",
       "    <tr>\n",
       "      <th>25%</th>\n",
       "      <td>9.416900e+04</td>\n",
       "      <td>90000.000000</td>\n",
       "      <td>2022.000000</td>\n",
       "    </tr>\n",
       "    <tr>\n",
       "      <th>50%</th>\n",
       "      <td>1.400000e+05</td>\n",
       "      <td>136000.000000</td>\n",
       "      <td>2023.000000</td>\n",
       "    </tr>\n",
       "    <tr>\n",
       "      <th>75%</th>\n",
       "      <td>1.900000e+05</td>\n",
       "      <td>185000.000000</td>\n",
       "      <td>2023.000000</td>\n",
       "    </tr>\n",
       "    <tr>\n",
       "      <th>max</th>\n",
       "      <td>3.040000e+07</td>\n",
       "      <td>450000.000000</td>\n",
       "      <td>2023.000000</td>\n",
       "    </tr>\n",
       "  </tbody>\n",
       "</table>\n",
       "</div>"
      ],
      "text/plain": [
       "             Salary  Salary in USD         Year\n",
       "count  3.300000e+03    3300.000000  3300.000000\n",
       "mean   2.046623e+05  142095.983939  2022.495455\n",
       "std    7.279383e+05   69028.235512     0.716355\n",
       "min    1.400000e+04   15000.000000  2020.000000\n",
       "25%    9.416900e+04   90000.000000  2022.000000\n",
       "50%    1.400000e+05  136000.000000  2023.000000\n",
       "75%    1.900000e+05  185000.000000  2023.000000\n",
       "max    3.040000e+07  450000.000000  2023.000000"
      ]
     },
     "execution_count": 7,
     "metadata": {},
     "output_type": "execute_result"
    }
   ],
   "source": [
    "temp.describe()"
   ]
  },
  {
   "cell_type": "code",
   "execution_count": 22,
   "metadata": {},
   "outputs": [
    {
     "data": {
      "text/plain": [
       "142095.98393939395"
      ]
     },
     "execution_count": 22,
     "metadata": {},
     "output_type": "execute_result"
    }
   ],
   "source": [
    "temp['Salary'].mean()\n",
    "temp['Salary in USD'].mean()\n"
   ]
  },
  {
   "cell_type": "code",
   "execution_count": 23,
   "metadata": {},
   "outputs": [
    {
     "data": {
      "text/html": [
       "<div>\n",
       "<style scoped>\n",
       "    .dataframe tbody tr th:only-of-type {\n",
       "        vertical-align: middle;\n",
       "    }\n",
       "\n",
       "    .dataframe tbody tr th {\n",
       "        vertical-align: top;\n",
       "    }\n",
       "\n",
       "    .dataframe thead th {\n",
       "        text-align: right;\n",
       "    }\n",
       "</style>\n",
       "<table border=\"1\" class=\"dataframe\">\n",
       "  <thead>\n",
       "    <tr style=\"text-align: right;\">\n",
       "      <th></th>\n",
       "      <th>Job Title</th>\n",
       "      <th>Employment Type</th>\n",
       "      <th>Experience Level</th>\n",
       "      <th>Expertise Level</th>\n",
       "      <th>Salary</th>\n",
       "      <th>Salary Currency</th>\n",
       "      <th>Company Location</th>\n",
       "      <th>Salary in USD</th>\n",
       "      <th>Employee Residence</th>\n",
       "      <th>Company Size</th>\n",
       "      <th>Year</th>\n",
       "    </tr>\n",
       "  </thead>\n",
       "  <tbody>\n",
       "    <tr>\n",
       "      <th>0</th>\n",
       "      <td>Data Engineer</td>\n",
       "      <td>Full-Time</td>\n",
       "      <td>Senior</td>\n",
       "      <td>Expert</td>\n",
       "      <td>100000</td>\n",
       "      <td>United States Dollar</td>\n",
       "      <td>United States</td>\n",
       "      <td>100000</td>\n",
       "      <td>United States</td>\n",
       "      <td>Medium</td>\n",
       "      <td>2023</td>\n",
       "    </tr>\n",
       "  </tbody>\n",
       "</table>\n",
       "</div>"
      ],
      "text/plain": [
       "       Job Title Employment Type Experience Level Expertise Level  Salary  \\\n",
       "0  Data Engineer       Full-Time           Senior          Expert  100000   \n",
       "\n",
       "        Salary Currency Company Location  Salary in USD Employee Residence  \\\n",
       "0  United States Dollar    United States         100000      United States   \n",
       "\n",
       "  Company Size  Year  \n",
       "0       Medium  2023  "
      ]
     },
     "execution_count": 23,
     "metadata": {},
     "output_type": "execute_result"
    }
   ],
   "source": [
    "temp.mode()"
   ]
  },
  {
   "cell_type": "code",
   "execution_count": 24,
   "metadata": {},
   "outputs": [
    {
     "data": {
      "text/plain": [
       "142095.98393939395"
      ]
     },
     "execution_count": 24,
     "metadata": {},
     "output_type": "execute_result"
    }
   ],
   "source": [
    "temp['Salary'].mean()\n",
    "temp['Salary in USD'].mean()\n"
   ]
  },
  {
   "cell_type": "code",
   "execution_count": 25,
   "metadata": {},
   "outputs": [
    {
     "data": {
      "text/plain": [
       "0    100000\n",
       "Name: Salary in USD, dtype: int64"
      ]
     },
     "execution_count": 25,
     "metadata": {},
     "output_type": "execute_result"
    }
   ],
   "source": [
    "temp['Salary'].mode()\n",
    "temp['Salary in USD'].mode()"
   ]
  },
  {
   "cell_type": "code",
   "execution_count": 26,
   "metadata": {},
   "outputs": [
    {
     "data": {
      "text/plain": [
       "4764897297.845452"
      ]
     },
     "execution_count": 26,
     "metadata": {},
     "output_type": "execute_result"
    }
   ],
   "source": [
    "temp['Salary'].var()\n",
    "temp['Salary in USD'].var()"
   ]
  },
  {
   "cell_type": "code",
   "execution_count": 27,
   "metadata": {},
   "outputs": [
    {
     "data": {
      "text/plain": [
       "69028.2355116039"
      ]
     },
     "execution_count": 27,
     "metadata": {},
     "output_type": "execute_result"
    }
   ],
   "source": [
    "temp['Salary'].std()\n",
    "temp['Salary in USD'].std()"
   ]
  },
  {
   "cell_type": "code",
   "execution_count": 28,
   "metadata": {},
   "outputs": [
    {
     "data": {
      "text/plain": [
       "30386000"
      ]
     },
     "execution_count": 28,
     "metadata": {},
     "output_type": "execute_result"
    }
   ],
   "source": [
    "range1 = max(temp['Salary']) - min(temp['Salary'])\n",
    "range1"
   ]
  },
  {
   "cell_type": "code",
   "execution_count": 29,
   "metadata": {},
   "outputs": [
    {
     "data": {
      "text/plain": [
       "95831.0"
      ]
     },
     "execution_count": 29,
     "metadata": {},
     "output_type": "execute_result"
    }
   ],
   "source": [
    "Q1 = np.percentile(temp['Salary'],25)\n",
    "Q2 = np.percentile(temp['Salary'],75)\n",
    "(Q1,Q2)\n",
    "IQR = Q2 - Q1\n",
    "IQR\n"
   ]
  },
  {
   "cell_type": "code",
   "execution_count": 30,
   "metadata": {},
   "outputs": [
    {
     "data": {
      "text/plain": [
       "(array([   14000,    15000,    16000, ...,  8500000, 11000000, 30400000]),\n",
       " array([1, 3, 1, ..., 1, 2, 1]))"
      ]
     },
     "execution_count": 30,
     "metadata": {},
     "output_type": "execute_result"
    }
   ],
   "source": [
    "unique,counts = np.unique(temp['Salary'],return_counts=True)\n",
    "(unique,counts)"
   ]
  }
 ],
 "metadata": {
  "kernelspec": {
   "display_name": "Python 3",
   "language": "python",
   "name": "python3"
  },
  "language_info": {
   "codemirror_mode": {
    "name": "ipython",
    "version": 3
   },
   "file_extension": ".py",
   "mimetype": "text/x-python",
   "name": "python",
   "nbconvert_exporter": "python",
   "pygments_lexer": "ipython3",
   "version": "3.10.8"
  },
  "orig_nbformat": 4
 },
 "nbformat": 4,
 "nbformat_minor": 2
}
